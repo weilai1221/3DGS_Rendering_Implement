{
 "cells": [
  {
   "cell_type": "code",
   "execution_count": 1,
   "metadata": {},
   "outputs": [],
   "source": [
    "import numpy as np\n",
    "import matplotlib.pyplot as plt\n",
    "import torch\n",
    "import math\n",
    "import numpy as np\n",
    "from typing import NamedTuple\n",
    "from plyfile import PlyData\n",
    "import graphics_utils\n",
    "import myfunctions\n",
    "from diff_gaussian_rasterization import GaussianRasterizationSettings, GaussianRasterizer\n",
    "import torchvision"
   ]
  },
  {
   "cell_type": "code",
   "execution_count": null,
   "metadata": {},
   "outputs": [
    {
     "name": "stdout",
     "output_type": "stream",
     "text": [
      "means.shape torch.Size([1, 3])\n",
      "normals.shape torch.Size([1, 3])\n",
      "opacitys.shape torch.Size([1, 1])\n",
      "scales.shape torch.Size([1, 3])\n",
      "rots.shape torch.Size([1, 4])\n",
      "f_dcs.shape torch.Size([1, 1, 3])\n",
      "f_rests.shape torch.Size([1, 15, 3])\n"
     ]
    }
   ],
   "source": [
    "# Load the ./data/poin_cloud.ply file (3dgs representation)\n",
    "\n",
    "means, normals, opacitys, scales, rots, f_dcs, f_rests = myfunctions.loadply('./data/point_cloud.ply', requires_grad=False)\n",
    "N = means.shape[0]\n",
    "# N = 1\n",
    "means    = means   [0:N]\n",
    "normals  = normals [0:N]\n",
    "opacitys = opacitys[0:N]\n",
    "scales   = scales  [0:N]\n",
    "rots     = rots    [0:N]\n",
    "f_dcs    = f_dcs   [0:N]\n",
    "f_rests  = f_rests [0:N]\n",
    "print(\"means.shape\", means.shape)\n",
    "print(\"normals.shape\", normals.shape)\n",
    "print(\"opacitys.shape\", opacitys.shape)\n",
    "print(\"scales.shape\", scales.shape)\n",
    "print(\"rots.shape\", rots.shape)\n",
    "print(\"f_dcs.shape\", f_dcs.shape)\n",
    "print(\"f_rests.shape\", f_rests.shape)\n",
    "\n",
    "\n",
    "\n"
   ]
  },
  {
   "cell_type": "code",
   "execution_count": 3,
   "metadata": {},
   "outputs": [],
   "source": [
    "# Camera\n",
    "# data from /gaussain-splatting/data/output/cameras.json\n",
    "position = [1.3136163323982164, -2.8528294530901546, 2.561592061938265]\n",
    "rotation = [[-0.8281871789359426, -0.3082205363180619,  0.4680877029338959], \n",
    "            [0.26120334583680177,  0.5266721096512661,  0.8089433237496585], \n",
    "            [-0.49586168310304535, 0.7922225633666913, -0.3556748533744323]]\n",
    "rotation = np.array(rotation).T\n",
    "# The rotation matrix in cameras.json needs to be transposed to match the rotation matrix in the code\n",
    "fy       = 600.1774500604101\n",
    "fx       = 599.969888751631"
   ]
  },
  {
   "cell_type": "code",
   "execution_count": 4,
   "metadata": {},
   "outputs": [],
   "source": [
    "# data from /gaussain-splatting/data/sparse/0/images.bin (COLMAP output)\n",
    "QW, QX, QY, QZ = -0.29274992627705781, -0.01427904747544056, 0.82318499469463746, 0.48627158458783204 # unit quaternion\n",
    "TX, TY, TZ     = 3.1032841540380889,   -0.12196179258629745, 2.6039835693399422\n",
    "# data from /gaussain-splatting/data/sparse/0/cameras.bin (COLMAP output)\n",
    "# 1 PINHOLE 1199 679 599.96988875163095 600.17745006041014 599.5 339.5\n",
    "# CAMERA_ID, MODEL, WIDTH, HEIGHT, focal_length_x, focal_length_y, principal_point_x, principal_point_y\n",
    "WIDTH, HEIGHT = 1199, 679\n",
    "FX, FY = 599.96988875163095, 600.17745006041014\n",
    "PX, PY = 599.5, 339.5\n"
   ]
  },
  {
   "cell_type": "code",
   "execution_count": 5,
   "metadata": {},
   "outputs": [
    {
     "name": "stdout",
     "output_type": "stream",
     "text": [
      "world_view_transform:\n",
      " tensor([[-0.8282, -0.3082,  0.4681,  0.0000],\n",
      "        [ 0.2612,  0.5267,  0.8089,  0.0000],\n",
      "        [-0.4959,  0.7922, -0.3557,  0.0000],\n",
      "        [ 3.1033, -0.1220,  2.6040,  1.0000]], device='cuda:0')\n",
      "projection_matrix:\n",
      " tensor([[ 1.0008e+00,  0.0000e+00,  0.0000e+00,  0.0000e+00],\n",
      "        [ 0.0000e+00,  1.7678e+00,  0.0000e+00,  0.0000e+00],\n",
      "        [ 0.0000e+00,  0.0000e+00,  1.0000e+00,  1.0000e+00],\n",
      "        [ 0.0000e+00,  0.0000e+00, -1.0000e-03,  0.0000e+00]], device='cuda:0')\n",
      "full_proj_transform:\n",
      " tensor([[-0.8288, -0.5449,  0.4681,  0.4681],\n",
      "        [ 0.2614,  0.9311,  0.8090,  0.8089],\n",
      "        [-0.4963,  1.4005, -0.3557, -0.3557],\n",
      "        [ 3.1057, -0.2156,  2.6030,  2.6040]], device='cuda:0')\n",
      "camera_center:\n",
      " tensor([ 1.3136, -2.8528,  2.5616], device='cuda:0')\n"
     ]
    }
   ],
   "source": [
    "R = myfunctions.quaternion2rotation([QW, QX, QY, QZ]).T\n",
    "T = np.array([TX, TY, TZ])\n",
    "\n",
    "trans = np.array([.0, .0, .0])\n",
    "scale = 1.0\n",
    "zfar  = 100.0\n",
    "znear = 0.001\n",
    "FovY = graphics_utils.focal2fov(FY, HEIGHT)\n",
    "FovX = graphics_utils.focal2fov(FX, WIDTH)\n",
    "tanfovx = math.tan(FovX * 0.5)\n",
    "tanfovy = math.tan(FovY * 0.5)\n",
    "bg_color = torch.tensor([0., 0., 0.], device='cuda:0')\n",
    "scaling_modifier = 1.0\n",
    "active_sh_degree = 3\n",
    "debug = False\n",
    "antialiasing = False\n",
    "\n",
    "\n",
    "\n",
    "world_view_transform = torch.tensor(graphics_utils.getWorld2View2(R, T, trans, scale)).transpose(0, 1).cuda()\n",
    "projection_matrix = graphics_utils.getProjectionMatrix(znear=znear, zfar=zfar, fovX=FovX, fovY=FovY).transpose(0,1).cuda()\n",
    "full_proj_transform = (world_view_transform.unsqueeze(0).bmm(projection_matrix.unsqueeze(0))).squeeze(0)\n",
    "camera_center = world_view_transform.inverse()[3, :3]\n",
    "\n",
    "\n",
    "\n",
    "print(\"world_view_transform:\\n\", world_view_transform)\n",
    "print(\"projection_matrix:\\n\", projection_matrix)\n",
    "print(\"full_proj_transform:\\n\", full_proj_transform)\n",
    "print(\"camera_center:\\n\", camera_center)\n",
    "\n",
    "\n",
    "# print(\"world_view_transform.shape\", world_view_transform.shape)\n",
    "# print(\"world_view_transform.dtype\", world_view_transform.dtype)\n",
    "# print(\"projection_matrix.shape\", projection_matrix.shape)\n",
    "# print(\"projection_matrix.dtype\", projection_matrix.dtype)\n",
    "# print(\"full_proj_transform.shape\", full_proj_transform.shape)\n",
    "# print(\"full_proj_transform.dtype\", full_proj_transform.dtype)\n",
    "# print(\"camera_center.shape\", camera_center.shape)\n",
    "# print(\"camera_center.dtype\", camera_center.dtype)\n",
    "\n"
   ]
  },
  {
   "cell_type": "code",
   "execution_count": 6,
   "metadata": {},
   "outputs": [
    {
     "name": "stdout",
     "output_type": "stream",
     "text": [
      "==================================================Forward pass\n",
      "cov[0]: +89.1968 -3.1544 +14.7474\n",
      "\n",
      "rotation_activation: \n",
      " tensor([[ 0.9437, -0.1250,  0.2214, -0.2117]], device='cuda:0')\n",
      "means3D.shape torch.Size([1, 3])\n",
      "means3D.dtype torch.float32\n",
      "means2D.shape torch.Size([1, 3])\n",
      "means2D.dtype torch.float32\n",
      "shs.shape torch.Size([1, 16, 3])\n",
      "shs.dtype torch.float32\n",
      "opacity.shape torch.Size([1, 1])\n",
      "opacity.dtype torch.float32\n",
      "scales.shape torch.Size([1, 3])\n",
      "scales.dtype torch.float32\n",
      "rotations.shape torch.Size([1, 4])\n",
      "rotations.dtype torch.float32\n"
     ]
    },
    {
     "data": {
      "text/plain": [
       "<matplotlib.image.AxesImage at 0x7a92454e5a50>"
      ]
     },
     "execution_count": 6,
     "metadata": {},
     "output_type": "execute_result"
    },
    {
     "data": {
      "image/png": "[encoded data removed]",
      "text/plain": [
       "<Figure size 640x480 with 1 Axes>"
      ]
     },
     "metadata": {},
     "output_type": "display_data"
    }
   ],
   "source": [
    "# render\n",
    "screenspace_points = torch.zeros_like(means, dtype=means.dtype, requires_grad=False, device=\"cuda\") + 0\n",
    "raster_settings = GaussianRasterizationSettings(\n",
    "    image_height=int(HEIGHT),\n",
    "    image_width=int(WIDTH),\n",
    "    tanfovx=tanfovx,\n",
    "    tanfovy=tanfovy,\n",
    "    bg=bg_color,\n",
    "    scale_modifier=scaling_modifier,\n",
    "    viewmatrix=world_view_transform,\n",
    "    projmatrix=full_proj_transform,\n",
    "    sh_degree=active_sh_degree,\n",
    "    campos=camera_center,\n",
    "    prefiltered=False,\n",
    "    debug=debug,\n",
    "    antialiasing=antialiasing\n",
    ")\n",
    "rasterizer = GaussianRasterizer(raster_settings=raster_settings)\n",
    "means3D = means\n",
    "means2D = screenspace_points\n",
    "opacity = torch.sigmoid(opacitys)\n",
    "scales = torch.exp(scales)\n",
    "# rotations = rots\n",
    "rotations = torch.nn.functional.normalize(rots)\n",
    "shs = torch.cat((f_dcs, f_rests), dim=1)\n",
    "rendered_image, radii, depth_image = rasterizer(\n",
    "    means3D = means3D,\n",
    "    means2D = means2D,\n",
    "    shs = shs,\n",
    "    colors_precomp = None,\n",
    "    opacities = opacity,\n",
    "    scales = scales,\n",
    "    rotations = rotations,\n",
    "    cov3D_precomp = None)\n",
    "\n",
    "print(\"=\" * 50)\n",
    "print(\"rotation_activation: \\n\", rotations)\n",
    "\n",
    "print(\"means3D.shape\", means3D.shape)\n",
    "print(\"means3D.dtype\", means3D.dtype)\n",
    "print(\"means2D.shape\", means2D.shape)\n",
    "print(\"means2D.dtype\", means2D.dtype)\n",
    "print(\"shs.shape\", shs.shape)\n",
    "print(\"shs.dtype\", shs.dtype)\n",
    "print(\"opacity.shape\", opacity.shape)\n",
    "print(\"opacity.dtype\", opacity.dtype)\n",
    "print(\"scales.shape\", scales.shape)\n",
    "print(\"scales.dtype\", scales.dtype)\n",
    "print(\"rotations.shape\", rotations.shape)\n",
    "print(\"rotations.dtype\", rotations.dtype)\n",
    "\n",
    "out = {\n",
    "    \"render\": rendered_image,\n",
    "    \"viewspace_points\": screenspace_points,\n",
    "    \"visibility_filter\" : (radii > 0).nonzero(),\n",
    "    \"radii\": radii,\n",
    "    \"depth\" : depth_image\n",
    "}\n",
    "rendering = out[\"render\"]\n",
    "torchvision.utils.save_image(rendering, \"rendered_image.png\")\n",
    "\n",
    "# show the rendered image\n",
    "final_image = rendering.cpu().detach().numpy().transpose(1, 2, 0)\n",
    "plt.imshow(final_image)\n",
    "\n",
    "\n",
    "\n",
    "\n"
   ]
  },
  {
   "cell_type": "code",
   "execution_count": null,
   "metadata": {},
   "outputs": [
    {
     "name": "stdout",
     "output_type": "stream",
     "text": [
      "means.shape torch.Size([1, 3])\n",
      "full_proj_transform.shape torch.Size([4, 4])\n",
      "means: tensor([[ 6.5382, -0.7929,  3.6458]], device='cuda:0')\n",
      "full_proj_transform: tensor([[-0.8288, -0.5449,  0.4681,  0.4681],\n",
      "        [ 0.2614,  0.9311,  0.8090,  0.8089],\n",
      "        [-0.4963,  1.4005, -0.3557, -0.3557],\n",
      "        [ 3.1057, -0.2156,  2.6030,  2.6040]], device='cuda:0')\n",
      "conv2D:  tensor([[89.1968, -3.1544, 14.7474]], device='cuda:0')\n"
     ]
    }
   ],
   "source": [
    "# print(\"means.shape\", means.shape)\n",
    "# print(\"full_proj_transform.shape\", full_proj_transform.shape)\n",
    "# print(\"means:\", means)\n",
    "# print(\"full_proj_transform:\", full_proj_transform)\n",
    "\n",
    "# cuuling, p_view, mean2D = myfunctions.cull_and_project_point(mean3D=means, projmatrix=full_proj_transform, viewmatrix=world_view_transform)\n",
    "# print(\"cuuling:\", cuuling)\n",
    "# print(\"p_view:\", p_view)\n",
    "# print(\"mean2D:\", mean2D)\n",
    "\n",
    "\n",
    "# project_points(means, normals, opacitys, scales, rots, f_dcs, f_rests, projmatrix, viewmatrix):\n",
    "# myfunctions.project_points(means=means, normals=normals, opacitys=opacitys, scales=scales, rots=rotations, f_dcs=f_dcs, f_rests=f_rests, projmatrix=full_proj_transform, viewmatrix=world_view_transform)\n",
    "# def project_points(means, normals, opacitys, scales, rots, f_dcs, f_rests, projmatrix, viewmatrix, focal_x, focal_y, tan_fovx, tan_fovy):\n",
    "\n",
    "# myfunctions.project_points(means=means, normals=normals, opacitys=opacitys, scales=scales, rots=rotations, f_dcs=f_dcs, f_rests=f_rests, projmatrix=full_proj_transform, viewmatrix=world_view_transform, focal_x=fx, focal_y=fy, tan_fovx=tanfovx, tan_fovy=tanfovy)\n",
    "\n"
   ]
  }
 ],
 "metadata": {
  "kernelspec": {
   "display_name": "3dgs",
   "language": "python",
   "name": "python3"
  },
  "language_info": {
   "codemirror_mode": {
    "name": "ipython",
    "version": 3
   },
   "file_extension": ".py",
   "mimetype": "text/x-python",
   "name": "python",
   "nbconvert_exporter": "python",
   "pygments_lexer": "ipython3",
   "version": "undefined.undefined.undefined"
  }
 },
 "nbformat": 4,
 "nbformat_minor": 2
}
